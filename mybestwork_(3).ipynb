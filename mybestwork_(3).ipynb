{
  "cells": [
    {
      "cell_type": "markdown",
      "metadata": {
        "id": "view-in-github",
        "colab_type": "text"
      },
      "source": [
        "<a href=\"https://colab.research.google.com/github/timon20b1076/Marketing_Strategy/blob/main/mybestwork_(3).ipynb\" target=\"_parent\"><img src=\"https://colab.research.google.com/assets/colab-badge.svg\" alt=\"Open In Colab\"/></a>"
      ]
    },
    {
      "cell_type": "code",
      "execution_count": null,
      "id": "3af038d9",
      "metadata": {
        "_cell_guid": "b1076dfc-b9ad-4769-8c92-a6c4dae69d19",
        "_uuid": "8f2839f25d086af736a60e9eeb907d3b93b6e0e5",
        "execution": {
          "iopub.execute_input": "2022-11-30T17:49:02.324207Z",
          "iopub.status.busy": "2022-11-30T17:49:02.323725Z",
          "iopub.status.idle": "2022-11-30T17:49:02.346320Z",
          "shell.execute_reply": "2022-11-30T17:49:02.345386Z"
        },
        "papermill": {
          "duration": 0.036494,
          "end_time": "2022-11-30T17:49:02.349260",
          "exception": false,
          "start_time": "2022-11-30T17:49:02.312766",
          "status": "completed"
        },
        "tags": [],
        "id": "3af038d9",
        "outputId": "97f019ff-df45-4124-ea54-67a8b6fb2729"
      },
      "outputs": [
        {
          "name": "stdout",
          "output_type": "stream",
          "text": [
            "/kaggle/input/marketing-strategy1/marketing-strategy-personalised-offer/sample.csv\n",
            "/kaggle/input/marketing-strategy1/marketing-strategy-personalised-offer/train_data.csv\n",
            "/kaggle/input/marketing-strategy1/marketing-strategy-personalised-offer/test_data.csv\n"
          ]
        }
      ],
      "source": [
        "# This Python 3 environment comes with many helpful analytics libraries installed\n",
        "# It is defined by the kaggle/python Docker image: https://github.com/kaggle/docker-python\n",
        "# For example, here's several helpful packages to load\n",
        "\n",
        "import numpy as np # linear algebra\n",
        "import pandas as pd # data processing, CSV file I/O (e.g. pd.read_csv)\n",
        "\n",
        "# Input data files are available in the read-only \"../input/\" directory\n",
        "# For example, running this (by clicking run or pressing Shift+Enter) will list all files under the input directory\n",
        "\n",
        "import os\n",
        "for dirname, _, filenames in os.walk('/kaggle/input'):\n",
        "    for filename in filenames:\n",
        "        print(os.path.join(dirname, filename))\n",
        "\n",
        "# You can write up to 20GB to the current directory (/kaggle/working/) that gets preserved as output when you create a version using \"Save & Run All\" \n",
        "# You can also write temporary files to /kaggle/temp/, but they won't be saved outside of the current session"
      ]
    },
    {
      "cell_type": "code",
      "execution_count": null,
      "id": "0556f05c",
      "metadata": {
        "execution": {
          "iopub.execute_input": "2022-11-30T17:49:02.368088Z",
          "iopub.status.busy": "2022-11-30T17:49:02.367337Z",
          "iopub.status.idle": "2022-11-30T17:49:03.408011Z",
          "shell.execute_reply": "2022-11-30T17:49:03.406953Z"
        },
        "papermill": {
          "duration": 1.052584,
          "end_time": "2022-11-30T17:49:03.410572",
          "exception": false,
          "start_time": "2022-11-30T17:49:02.357988",
          "status": "completed"
        },
        "tags": [],
        "id": "0556f05c"
      },
      "outputs": [],
      "source": [
        "import numpy as np\n",
        "import pandas as pd\n",
        "import matplotlib.pyplot as plt\n",
        "import seaborn as sns"
      ]
    },
    {
      "cell_type": "code",
      "execution_count": null,
      "id": "5d287120",
      "metadata": {
        "execution": {
          "iopub.execute_input": "2022-11-30T17:49:03.428156Z",
          "iopub.status.busy": "2022-11-30T17:49:03.427734Z",
          "iopub.status.idle": "2022-11-30T17:49:03.595881Z",
          "shell.execute_reply": "2022-11-30T17:49:03.594866Z"
        },
        "papermill": {
          "duration": 0.179896,
          "end_time": "2022-11-30T17:49:03.598568",
          "exception": false,
          "start_time": "2022-11-30T17:49:03.418672",
          "status": "completed"
        },
        "tags": [],
        "id": "5d287120"
      },
      "outputs": [],
      "source": [
        "data1 = pd.read_csv('../input/marketing-strategy1/marketing-strategy-personalised-offer/train_data.csv',sep =',')\n",
        "data2 = pd.read_csv('/kaggle/input/marketing-strategy1/marketing-strategy-personalised-offer/test_data.csv')\n"
      ]
    },
    {
      "cell_type": "code",
      "execution_count": null,
      "id": "9c58ab96",
      "metadata": {
        "execution": {
          "iopub.execute_input": "2022-11-30T17:49:03.617603Z",
          "iopub.status.busy": "2022-11-30T17:49:03.616891Z",
          "iopub.status.idle": "2022-11-30T17:49:03.651244Z",
          "shell.execute_reply": "2022-11-30T17:49:03.650056Z"
        },
        "papermill": {
          "duration": 0.046778,
          "end_time": "2022-11-30T17:49:03.654119",
          "exception": false,
          "start_time": "2022-11-30T17:49:03.607341",
          "status": "completed"
        },
        "tags": [],
        "id": "9c58ab96",
        "outputId": "41759d1f-6667-41be-9831-4598fc3b492b"
      },
      "outputs": [
        {
          "data": {
            "text/html": [
              "<div>\n",
              "<style scoped>\n",
              "    .dataframe tbody tr th:only-of-type {\n",
              "        vertical-align: middle;\n",
              "    }\n",
              "\n",
              "    .dataframe tbody tr th {\n",
              "        vertical-align: top;\n",
              "    }\n",
              "\n",
              "    .dataframe thead th {\n",
              "        text-align: right;\n",
              "    }\n",
              "</style>\n",
              "<table border=\"1\" class=\"dataframe\">\n",
              "  <thead>\n",
              "    <tr style=\"text-align: right;\">\n",
              "      <th></th>\n",
              "      <th>offer expiration</th>\n",
              "      <th>income_range</th>\n",
              "      <th>no_visited_Cold drinks</th>\n",
              "      <th>travelled_more_than_15mins_for_offer</th>\n",
              "      <th>Restaur_spend_less_than20</th>\n",
              "      <th>Marital Status</th>\n",
              "      <th>restaurant type</th>\n",
              "      <th>age</th>\n",
              "      <th>Prefer western over chinese</th>\n",
              "      <th>travelled_more_than_25mins_for_offer</th>\n",
              "      <th>...</th>\n",
              "      <th>restuarant_opposite_direction_house</th>\n",
              "      <th>has Children</th>\n",
              "      <th>visit restaurant with rating (avg)</th>\n",
              "      <th>temperature</th>\n",
              "      <th>Restaur_spend_greater_than20</th>\n",
              "      <th>Travel Time</th>\n",
              "      <th>Climate</th>\n",
              "      <th>drop location</th>\n",
              "      <th>Prefer home food</th>\n",
              "      <th>Offer Accepted</th>\n",
              "    </tr>\n",
              "  </thead>\n",
              "  <tbody>\n",
              "    <tr>\n",
              "      <th>0</th>\n",
              "      <td>2days</td>\n",
              "      <td>₹100000 or More</td>\n",
              "      <td>4~8</td>\n",
              "      <td>1</td>\n",
              "      <td>less1</td>\n",
              "      <td>Married partner</td>\n",
              "      <td>4 star restaurant</td>\n",
              "      <td>36</td>\n",
              "      <td>0</td>\n",
              "      <td>0</td>\n",
              "      <td>...</td>\n",
              "      <td>0</td>\n",
              "      <td>0</td>\n",
              "      <td>4</td>\n",
              "      <td>67</td>\n",
              "      <td>less1</td>\n",
              "      <td>22</td>\n",
              "      <td>Spring</td>\n",
              "      <td>Location B</td>\n",
              "      <td>0</td>\n",
              "      <td>No</td>\n",
              "    </tr>\n",
              "    <tr>\n",
              "      <th>1</th>\n",
              "      <td>2days</td>\n",
              "      <td>₹87500 - ₹99999</td>\n",
              "      <td>4~8</td>\n",
              "      <td>0</td>\n",
              "      <td>4~8</td>\n",
              "      <td>Married partner</td>\n",
              "      <td>Take-away restaurant</td>\n",
              "      <td>50plus</td>\n",
              "      <td>0</td>\n",
              "      <td>0</td>\n",
              "      <td>...</td>\n",
              "      <td>0</td>\n",
              "      <td>1</td>\n",
              "      <td>3</td>\n",
              "      <td>89</td>\n",
              "      <td>1~3</td>\n",
              "      <td>18</td>\n",
              "      <td>Summer</td>\n",
              "      <td>Location B</td>\n",
              "      <td>0</td>\n",
              "      <td>Yes</td>\n",
              "    </tr>\n",
              "    <tr>\n",
              "      <th>2</th>\n",
              "      <td>2days</td>\n",
              "      <td>₹87500 - ₹99999</td>\n",
              "      <td>less1</td>\n",
              "      <td>1</td>\n",
              "      <td>1~3</td>\n",
              "      <td>Single</td>\n",
              "      <td>Cold drinks</td>\n",
              "      <td>26</td>\n",
              "      <td>1</td>\n",
              "      <td>0</td>\n",
              "      <td>...</td>\n",
              "      <td>1</td>\n",
              "      <td>1</td>\n",
              "      <td>4</td>\n",
              "      <td>67</td>\n",
              "      <td>less1</td>\n",
              "      <td>7</td>\n",
              "      <td>Winter</td>\n",
              "      <td>Location A</td>\n",
              "      <td>1</td>\n",
              "      <td>Yes</td>\n",
              "    </tr>\n",
              "    <tr>\n",
              "      <th>3</th>\n",
              "      <td>10hours</td>\n",
              "      <td>₹37500 - ₹49999</td>\n",
              "      <td>less1</td>\n",
              "      <td>0</td>\n",
              "      <td>1~3</td>\n",
              "      <td>Single</td>\n",
              "      <td>Take-away restaurant</td>\n",
              "      <td>46</td>\n",
              "      <td>1</td>\n",
              "      <td>0</td>\n",
              "      <td>...</td>\n",
              "      <td>0</td>\n",
              "      <td>1</td>\n",
              "      <td>3</td>\n",
              "      <td>89</td>\n",
              "      <td>1~3</td>\n",
              "      <td>7</td>\n",
              "      <td>Summer</td>\n",
              "      <td>Location C</td>\n",
              "      <td>0</td>\n",
              "      <td>No</td>\n",
              "    </tr>\n",
              "    <tr>\n",
              "      <th>4</th>\n",
              "      <td>2days</td>\n",
              "      <td>₹100000 or More</td>\n",
              "      <td>never</td>\n",
              "      <td>1</td>\n",
              "      <td>1~3</td>\n",
              "      <td>Single</td>\n",
              "      <td>4 star restaurant</td>\n",
              "      <td>21</td>\n",
              "      <td>0</td>\n",
              "      <td>1</td>\n",
              "      <td>...</td>\n",
              "      <td>1</td>\n",
              "      <td>0</td>\n",
              "      <td>3</td>\n",
              "      <td>40</td>\n",
              "      <td>less1</td>\n",
              "      <td>7</td>\n",
              "      <td>Summer</td>\n",
              "      <td>Location C</td>\n",
              "      <td>0</td>\n",
              "      <td>No</td>\n",
              "    </tr>\n",
              "  </tbody>\n",
              "</table>\n",
              "<p>5 rows × 31 columns</p>\n",
              "</div>"
            ],
            "text/plain": [
              "  offer expiration     income_range no_visited_Cold drinks  \\\n",
              "0            2days  ₹100000 or More                    4~8   \n",
              "1            2days  ₹87500 - ₹99999                    4~8   \n",
              "2            2days  ₹87500 - ₹99999                  less1   \n",
              "3          10hours  ₹37500 - ₹49999                  less1   \n",
              "4            2days  ₹100000 or More                  never   \n",
              "\n",
              "   travelled_more_than_15mins_for_offer Restaur_spend_less_than20  \\\n",
              "0                                     1                     less1   \n",
              "1                                     0                       4~8   \n",
              "2                                     1                       1~3   \n",
              "3                                     0                       1~3   \n",
              "4                                     1                       1~3   \n",
              "\n",
              "    Marital Status       restaurant type     age  Prefer western over chinese  \\\n",
              "0  Married partner     4 star restaurant      36                            0   \n",
              "1  Married partner  Take-away restaurant  50plus                            0   \n",
              "2           Single           Cold drinks      26                            1   \n",
              "3           Single  Take-away restaurant      46                            1   \n",
              "4           Single     4 star restaurant      21                            0   \n",
              "\n",
              "   travelled_more_than_25mins_for_offer  ...  \\\n",
              "0                                     0  ...   \n",
              "1                                     0  ...   \n",
              "2                                     0  ...   \n",
              "3                                     0  ...   \n",
              "4                                     1  ...   \n",
              "\n",
              "   restuarant_opposite_direction_house has Children  \\\n",
              "0                                    0            0   \n",
              "1                                    0            1   \n",
              "2                                    1            1   \n",
              "3                                    0            1   \n",
              "4                                    1            0   \n",
              "\n",
              "  visit restaurant with rating (avg) temperature  \\\n",
              "0                                  4          67   \n",
              "1                                  3          89   \n",
              "2                                  4          67   \n",
              "3                                  3          89   \n",
              "4                                  3          40   \n",
              "\n",
              "   Restaur_spend_greater_than20  Travel Time Climate drop location  \\\n",
              "0                         less1           22  Spring    Location B   \n",
              "1                           1~3           18  Summer    Location B   \n",
              "2                         less1            7  Winter    Location A   \n",
              "3                           1~3            7  Summer    Location C   \n",
              "4                         less1            7  Summer    Location C   \n",
              "\n",
              "   Prefer home food Offer Accepted  \n",
              "0                 0             No  \n",
              "1                 0            Yes  \n",
              "2                 1            Yes  \n",
              "3                 0             No  \n",
              "4                 0             No  \n",
              "\n",
              "[5 rows x 31 columns]"
            ]
          },
          "execution_count": 4,
          "metadata": {},
          "output_type": "execute_result"
        }
      ],
      "source": [
        "data1.head()"
      ]
    },
    {
      "cell_type": "code",
      "execution_count": null,
      "id": "091cf9db",
      "metadata": {
        "execution": {
          "iopub.execute_input": "2022-11-30T17:49:03.673540Z",
          "iopub.status.busy": "2022-11-30T17:49:03.673105Z",
          "iopub.status.idle": "2022-11-30T17:49:03.688493Z",
          "shell.execute_reply": "2022-11-30T17:49:03.687318Z"
        },
        "papermill": {
          "duration": 0.028208,
          "end_time": "2022-11-30T17:49:03.691185",
          "exception": false,
          "start_time": "2022-11-30T17:49:03.662977",
          "status": "completed"
        },
        "tags": [],
        "id": "091cf9db"
      },
      "outputs": [],
      "source": [
        "Y_train = data1[\"Offer Accepted\"]\n",
        "\n",
        "X_train = data1.drop(\"Offer Accepted\", axis=1)\n",
        "X_test = data2.copy()\n"
      ]
    },
    {
      "cell_type": "code",
      "execution_count": null,
      "id": "7bfeb3bc",
      "metadata": {
        "execution": {
          "iopub.execute_input": "2022-11-30T17:49:03.711974Z",
          "iopub.status.busy": "2022-11-30T17:49:03.711527Z",
          "iopub.status.idle": "2022-11-30T17:49:03.742153Z",
          "shell.execute_reply": "2022-11-30T17:49:03.741030Z"
        },
        "papermill": {
          "duration": 0.043635,
          "end_time": "2022-11-30T17:49:03.744835",
          "exception": false,
          "start_time": "2022-11-30T17:49:03.701200",
          "status": "completed"
        },
        "tags": [],
        "id": "7bfeb3bc",
        "outputId": "c618b6b5-a23b-4abb-9afc-3c0a005d0d92"
      },
      "outputs": [
        {
          "name": "stdout",
          "output_type": "stream",
          "text": [
            "<class 'pandas.core.frame.DataFrame'>\n",
            "RangeIndex: 12379 entries, 0 to 12378\n",
            "Data columns (total 30 columns):\n",
            " #   Column                                Non-Null Count  Dtype \n",
            "---  ------                                --------------  ----- \n",
            " 0   offer expiration                      12379 non-null  object\n",
            " 1   income_range                          12379 non-null  object\n",
            " 2   no_visited_Cold drinks                12181 non-null  object\n",
            " 3   travelled_more_than_15mins_for_offer  12379 non-null  int64 \n",
            " 4   Restaur_spend_less_than20             12258 non-null  object\n",
            " 5   Marital Status                        12379 non-null  object\n",
            " 6   restaurant type                       12379 non-null  object\n",
            " 7   age                                   12379 non-null  object\n",
            " 8   Prefer western over chinese           12379 non-null  int64 \n",
            " 9   travelled_more_than_25mins_for_offer  12379 non-null  int64 \n",
            " 10  travelled_more_than_5mins_for_offer   12379 non-null  int64 \n",
            " 11  no_visited_bars                       12286 non-null  object\n",
            " 12  gender                                12379 non-null  object\n",
            " 13  car                                   111 non-null    object\n",
            " 14  restuarant_same_direction_house       12379 non-null  int64 \n",
            " 15  Cooks regularly                       12379 non-null  int64 \n",
            " 16  Customer type                         12379 non-null  object\n",
            " 17  Qualification                         12379 non-null  object\n",
            " 18  is foodie                             12379 non-null  int64 \n",
            " 19  no_Take-aways                         12235 non-null  object\n",
            " 20  Job/Job Industry                      12379 non-null  object\n",
            " 21  restuarant_opposite_direction_house   12379 non-null  int64 \n",
            " 22  has Children                          12379 non-null  int64 \n",
            " 23  visit restaurant with rating (avg)    12379 non-null  int64 \n",
            " 24  temperature                           12379 non-null  int64 \n",
            " 25  Restaur_spend_greater_than20          12219 non-null  object\n",
            " 26  Travel Time                           12379 non-null  int64 \n",
            " 27  Climate                               12379 non-null  object\n",
            " 28  drop location                         12379 non-null  object\n",
            " 29  Prefer home food                      12379 non-null  int64 \n",
            "dtypes: int64(13), object(17)\n",
            "memory usage: 2.8+ MB\n"
          ]
        }
      ],
      "source": [
        "X_train.info()"
      ]
    },
    {
      "cell_type": "code",
      "execution_count": null,
      "id": "32445dc7",
      "metadata": {
        "execution": {
          "iopub.execute_input": "2022-11-30T17:49:03.763249Z",
          "iopub.status.busy": "2022-11-30T17:49:03.762431Z",
          "iopub.status.idle": "2022-11-30T17:49:03.781543Z",
          "shell.execute_reply": "2022-11-30T17:49:03.780462Z"
        },
        "papermill": {
          "duration": 0.031051,
          "end_time": "2022-11-30T17:49:03.784093",
          "exception": false,
          "start_time": "2022-11-30T17:49:03.753042",
          "status": "completed"
        },
        "tags": [],
        "id": "32445dc7",
        "outputId": "770c672c-de1f-4d93-94c7-0c0d6ddeb3f9"
      },
      "outputs": [
        {
          "name": "stdout",
          "output_type": "stream",
          "text": [
            "<class 'pandas.core.frame.DataFrame'>\n",
            "RangeIndex: 5305 entries, 0 to 5304\n",
            "Data columns (total 30 columns):\n",
            " #   Column                                Non-Null Count  Dtype \n",
            "---  ------                                --------------  ----- \n",
            " 0   offer expiration                      5305 non-null   object\n",
            " 1   income_range                          5305 non-null   object\n",
            " 2   no_visited_Cold drinks                5215 non-null   object\n",
            " 3   travelled_more_than_15mins_for_offer  5305 non-null   int64 \n",
            " 4   Restaur_spend_less_than20             5244 non-null   object\n",
            " 5   Marital Status                        5305 non-null   object\n",
            " 6   restaurant type                       5305 non-null   object\n",
            " 7   age                                   5305 non-null   object\n",
            " 8   Prefer western over chinese           5305 non-null   int64 \n",
            " 9   travelled_more_than_25mins_for_offer  5305 non-null   int64 \n",
            " 10  travelled_more_than_5mins_for_offer   5305 non-null   int64 \n",
            " 11  no_visited_bars                       5255 non-null   object\n",
            " 12  gender                                5305 non-null   object\n",
            " 13  car                                   43 non-null     object\n",
            " 14  restuarant_same_direction_house       5305 non-null   int64 \n",
            " 15  Cooks regularly                       5305 non-null   int64 \n",
            " 16  Customer type                         5305 non-null   object\n",
            " 17  Qualification                         5305 non-null   object\n",
            " 18  is foodie                             5305 non-null   int64 \n",
            " 19  no_Take-aways                         5245 non-null   object\n",
            " 20  Job/Job Industry                      5305 non-null   object\n",
            " 21  restuarant_opposite_direction_house   5305 non-null   int64 \n",
            " 22  has Children                          5305 non-null   int64 \n",
            " 23  visit restaurant with rating (avg)    5305 non-null   int64 \n",
            " 24  temperature                           5305 non-null   int64 \n",
            " 25  Restaur_spend_greater_than20          5201 non-null   object\n",
            " 26  Travel Time                           5305 non-null   int64 \n",
            " 27  Climate                               5305 non-null   object\n",
            " 28  drop location                         5305 non-null   object\n",
            " 29  Prefer home food                      5305 non-null   int64 \n",
            "dtypes: int64(13), object(17)\n",
            "memory usage: 1.2+ MB\n"
          ]
        }
      ],
      "source": [
        "X_test.info()"
      ]
    },
    {
      "cell_type": "code",
      "execution_count": null,
      "id": "a2996522",
      "metadata": {
        "execution": {
          "iopub.execute_input": "2022-11-30T17:49:03.803210Z",
          "iopub.status.busy": "2022-11-30T17:49:03.802510Z",
          "iopub.status.idle": "2022-11-30T17:49:03.821670Z",
          "shell.execute_reply": "2022-11-30T17:49:03.820596Z"
        },
        "papermill": {
          "duration": 0.031495,
          "end_time": "2022-11-30T17:49:03.824193",
          "exception": false,
          "start_time": "2022-11-30T17:49:03.792698",
          "status": "completed"
        },
        "tags": [],
        "id": "a2996522"
      },
      "outputs": [],
      "source": [
        "X_train[\"offer expiration\"] = X_train[\"offer expiration\"].replace(\"2days\", 48)\n",
        "X_train[\"offer expiration\"] = X_train[\"offer expiration\"].replace(\"10hours\", 10)\n",
        "\n",
        "\n",
        "X_test[\"offer expiration\"] = X_test[\"offer expiration\"].replace(\"2days\", 48)\n",
        "X_test[\"offer expiration\"] = X_test[\"offer expiration\"].replace(\"10hours\", 10)"
      ]
    },
    {
      "cell_type": "code",
      "execution_count": null,
      "id": "fb1b0eef",
      "metadata": {
        "execution": {
          "iopub.execute_input": "2022-11-30T17:49:03.843520Z",
          "iopub.status.busy": "2022-11-30T17:49:03.842778Z",
          "iopub.status.idle": "2022-11-30T17:49:03.850860Z",
          "shell.execute_reply": "2022-11-30T17:49:03.849655Z"
        },
        "papermill": {
          "duration": 0.020884,
          "end_time": "2022-11-30T17:49:03.853634",
          "exception": false,
          "start_time": "2022-11-30T17:49:03.832750",
          "status": "completed"
        },
        "tags": [],
        "id": "fb1b0eef",
        "outputId": "4de2d8cf-3128-4112-bc20-68e465ebd7ff"
      },
      "outputs": [
        {
          "data": {
            "text/plain": [
              "array(['₹100000 or More', '₹87500 - ₹99999', '₹37500 - ₹49999',\n",
              "       'Less than ₹12500', '₹50000 - ₹62499', '₹12500 - ₹24999',\n",
              "       '₹75000 - ₹87499', '₹25000 - ₹37499', '₹62500 - ₹74999'],\n",
              "      dtype=object)"
            ]
          },
          "execution_count": 9,
          "metadata": {},
          "output_type": "execute_result"
        }
      ],
      "source": [
        "X_train['income_range'].unique()"
      ]
    },
    {
      "cell_type": "code",
      "execution_count": null,
      "id": "295a1476",
      "metadata": {
        "execution": {
          "iopub.execute_input": "2022-11-30T17:49:03.872658Z",
          "iopub.status.busy": "2022-11-30T17:49:03.872247Z",
          "iopub.status.idle": "2022-11-30T17:49:03.897430Z",
          "shell.execute_reply": "2022-11-30T17:49:03.896266Z"
        },
        "papermill": {
          "duration": 0.038027,
          "end_time": "2022-11-30T17:49:03.900259",
          "exception": false,
          "start_time": "2022-11-30T17:49:03.862232",
          "status": "completed"
        },
        "tags": [],
        "id": "295a1476"
      },
      "outputs": [],
      "source": [
        "X_train[\"income_range\"] = X_train[\"income_range\"].replace('₹100000 or More',8)\n",
        "X_train[\"income_range\"] = X_train[\"income_range\"].replace('₹87500 - ₹99999',7)\n",
        "X_train[\"income_range\"] = X_train[\"income_range\"].replace('₹37500 - ₹49999',3)\n",
        "X_train[\"income_range\"] = X_train[\"income_range\"].replace('Less than ₹12500',0)\n",
        "X_train[\"income_range\"] = X_train[\"income_range\"].replace('₹50000 - ₹62499',4)\n",
        "X_train[\"income_range\"] = X_train[\"income_range\"].replace('₹12500 - ₹24999',1)\n",
        "X_train[\"income_range\"] = X_train[\"income_range\"].replace('₹75000 - ₹87499',6)\n",
        "X_train[\"income_range\"] = X_train[\"income_range\"].replace('₹25000 - ₹37499',2)\n",
        "X_train[\"income_range\"] = X_train[\"income_range\"].replace('₹62500 - ₹74999',5)"
      ]
    },
    {
      "cell_type": "code",
      "execution_count": null,
      "id": "fe1fd910",
      "metadata": {
        "execution": {
          "iopub.execute_input": "2022-11-30T17:49:03.919736Z",
          "iopub.status.busy": "2022-11-30T17:49:03.919279Z",
          "iopub.status.idle": "2022-11-30T17:49:03.937418Z",
          "shell.execute_reply": "2022-11-30T17:49:03.936268Z"
        },
        "papermill": {
          "duration": 0.031098,
          "end_time": "2022-11-30T17:49:03.940112",
          "exception": false,
          "start_time": "2022-11-30T17:49:03.909014",
          "status": "completed"
        },
        "tags": [],
        "id": "fe1fd910"
      },
      "outputs": [],
      "source": [
        "X_test[\"income_range\"] = X_test[\"income_range\"].replace('₹100000 or More',8)\n",
        "X_test[\"income_range\"] = X_test[\"income_range\"].replace('₹87500 - ₹99999',7)\n",
        "X_test[\"income_range\"] = X_test[\"income_range\"].replace('₹37500 - ₹49999',3)\n",
        "X_test[\"income_range\"] = X_test[\"income_range\"].replace('Less than ₹12500',0)\n",
        "X_test[\"income_range\"] = X_test[\"income_range\"].replace('₹50000 - ₹62499',4)\n",
        "X_test[\"income_range\"] = X_test[\"income_range\"].replace('₹12500 - ₹24999',1)\n",
        "X_test[\"income_range\"] = X_test[\"income_range\"].replace('₹75000 - ₹87499',6)\n",
        "X_test[\"income_range\"] = X_test[\"income_range\"].replace('₹25000 - ₹37499',2)\n",
        "X_test[\"income_range\"] = X_test[\"income_range\"].replace('₹62500 - ₹74999',5)"
      ]
    },
    {
      "cell_type": "code",
      "execution_count": null,
      "id": "84f9e204",
      "metadata": {
        "execution": {
          "iopub.execute_input": "2022-11-30T17:49:03.959316Z",
          "iopub.status.busy": "2022-11-30T17:49:03.958926Z",
          "iopub.status.idle": "2022-11-30T17:49:03.976625Z",
          "shell.execute_reply": "2022-11-30T17:49:03.975034Z"
        },
        "papermill": {
          "duration": 0.030397,
          "end_time": "2022-11-30T17:49:03.979181",
          "exception": false,
          "start_time": "2022-11-30T17:49:03.948784",
          "status": "completed"
        },
        "tags": [],
        "id": "84f9e204",
        "outputId": "142ae0a9-5b38-4f59-c633-11018220baea"
      },
      "outputs": [
        {
          "name": "stdout",
          "output_type": "stream",
          "text": [
            "<class 'pandas.core.frame.DataFrame'>\n",
            "RangeIndex: 5305 entries, 0 to 5304\n",
            "Data columns (total 30 columns):\n",
            " #   Column                                Non-Null Count  Dtype \n",
            "---  ------                                --------------  ----- \n",
            " 0   offer expiration                      5305 non-null   int64 \n",
            " 1   income_range                          5305 non-null   int64 \n",
            " 2   no_visited_Cold drinks                5215 non-null   object\n",
            " 3   travelled_more_than_15mins_for_offer  5305 non-null   int64 \n",
            " 4   Restaur_spend_less_than20             5244 non-null   object\n",
            " 5   Marital Status                        5305 non-null   object\n",
            " 6   restaurant type                       5305 non-null   object\n",
            " 7   age                                   5305 non-null   object\n",
            " 8   Prefer western over chinese           5305 non-null   int64 \n",
            " 9   travelled_more_than_25mins_for_offer  5305 non-null   int64 \n",
            " 10  travelled_more_than_5mins_for_offer   5305 non-null   int64 \n",
            " 11  no_visited_bars                       5255 non-null   object\n",
            " 12  gender                                5305 non-null   object\n",
            " 13  car                                   43 non-null     object\n",
            " 14  restuarant_same_direction_house       5305 non-null   int64 \n",
            " 15  Cooks regularly                       5305 non-null   int64 \n",
            " 16  Customer type                         5305 non-null   object\n",
            " 17  Qualification                         5305 non-null   object\n",
            " 18  is foodie                             5305 non-null   int64 \n",
            " 19  no_Take-aways                         5245 non-null   object\n",
            " 20  Job/Job Industry                      5305 non-null   object\n",
            " 21  restuarant_opposite_direction_house   5305 non-null   int64 \n",
            " 22  has Children                          5305 non-null   int64 \n",
            " 23  visit restaurant with rating (avg)    5305 non-null   int64 \n",
            " 24  temperature                           5305 non-null   int64 \n",
            " 25  Restaur_spend_greater_than20          5201 non-null   object\n",
            " 26  Travel Time                           5305 non-null   int64 \n",
            " 27  Climate                               5305 non-null   object\n",
            " 28  drop location                         5305 non-null   object\n",
            " 29  Prefer home food                      5305 non-null   int64 \n",
            "dtypes: int64(15), object(15)\n",
            "memory usage: 1.2+ MB\n"
          ]
        }
      ],
      "source": [
        "X_test.info()"
      ]
    },
    {
      "cell_type": "code",
      "execution_count": null,
      "id": "a23ce160",
      "metadata": {
        "execution": {
          "iopub.execute_input": "2022-11-30T17:49:03.998456Z",
          "iopub.status.busy": "2022-11-30T17:49:03.998011Z",
          "iopub.status.idle": "2022-11-30T17:49:04.108926Z",
          "shell.execute_reply": "2022-11-30T17:49:04.107738Z"
        },
        "papermill": {
          "duration": 0.123665,
          "end_time": "2022-11-30T17:49:04.111538",
          "exception": false,
          "start_time": "2022-11-30T17:49:03.987873",
          "status": "completed"
        },
        "tags": [],
        "id": "a23ce160"
      },
      "outputs": [],
      "source": [
        "X_train = X_train.replace(\"1~3\", 2)\n",
        "X_train = X_train.replace(\"4~8\", 6)\n",
        "X_train = X_train.replace(\"never\", 0)\n",
        "X_train = X_train.replace(\"less1\", 0)\n",
        "X_train = X_train.replace(\"gt8\", 10)\n",
        "X_train = X_train.replace(\"1\", 1)\n",
        "X_test = X_test.replace(\"1~3\", 2)\n",
        "X_test = X_test.replace(\"4~8\", 6)\n",
        "X_test = X_test.replace(\"never\", 0)\n",
        "X_test = X_test.replace(\"less1\", 0)\n",
        "X_test = X_test.replace(\"gt8\", 10)\n",
        "X_test = X_test.replace(\"1\", 1)"
      ]
    },
    {
      "cell_type": "code",
      "execution_count": null,
      "id": "9548c091",
      "metadata": {
        "execution": {
          "iopub.execute_input": "2022-11-30T17:49:04.131648Z",
          "iopub.status.busy": "2022-11-30T17:49:04.130902Z",
          "iopub.status.idle": "2022-11-30T17:49:04.147062Z",
          "shell.execute_reply": "2022-11-30T17:49:04.145697Z"
        },
        "papermill": {
          "duration": 0.029152,
          "end_time": "2022-11-30T17:49:04.149770",
          "exception": false,
          "start_time": "2022-11-30T17:49:04.120618",
          "status": "completed"
        },
        "tags": [],
        "id": "9548c091",
        "outputId": "47a60f5b-1afc-465d-c2c8-1b073840ea71"
      },
      "outputs": [
        {
          "data": {
            "text/plain": [
              "offer expiration                            0\n",
              "income_range                                0\n",
              "no_visited_Cold drinks                    198\n",
              "travelled_more_than_15mins_for_offer        0\n",
              "Restaur_spend_less_than20                 121\n",
              "Marital Status                              0\n",
              "restaurant type                             0\n",
              "age                                         0\n",
              "Prefer western over chinese                 0\n",
              "travelled_more_than_25mins_for_offer        0\n",
              "travelled_more_than_5mins_for_offer         0\n",
              "no_visited_bars                            93\n",
              "gender                                      0\n",
              "car                                     12268\n",
              "restuarant_same_direction_house             0\n",
              "Cooks regularly                             0\n",
              "Customer type                               0\n",
              "Qualification                               0\n",
              "is foodie                                   0\n",
              "no_Take-aways                             144\n",
              "Job/Job Industry                            0\n",
              "restuarant_opposite_direction_house         0\n",
              "has Children                                0\n",
              "visit restaurant with rating (avg)          0\n",
              "temperature                                 0\n",
              "Restaur_spend_greater_than20              160\n",
              "Travel Time                                 0\n",
              "Climate                                     0\n",
              "drop location                               0\n",
              "Prefer home food                            0\n",
              "dtype: int64"
            ]
          },
          "execution_count": 14,
          "metadata": {},
          "output_type": "execute_result"
        }
      ],
      "source": [
        "X_train.isnull().sum()"
      ]
    },
    {
      "cell_type": "code",
      "execution_count": null,
      "id": "9806f12e",
      "metadata": {
        "execution": {
          "iopub.execute_input": "2022-11-30T17:49:04.170311Z",
          "iopub.status.busy": "2022-11-30T17:49:04.169142Z",
          "iopub.status.idle": "2022-11-30T17:49:04.180924Z",
          "shell.execute_reply": "2022-11-30T17:49:04.179883Z"
        },
        "papermill": {
          "duration": 0.024694,
          "end_time": "2022-11-30T17:49:04.183452",
          "exception": false,
          "start_time": "2022-11-30T17:49:04.158758",
          "status": "completed"
        },
        "tags": [],
        "id": "9806f12e"
      },
      "outputs": [],
      "source": [
        "j = [\"no_visited_Cold drinks\", \"Restaur_spend_less_than20\", \"no_visited_bars\", \n",
        "     \"no_Take-aways\", \"Restaur_spend_greater_than20\"]\n",
        "for i in j:\n",
        "  X_train[i].fillna(X_train[i].mean(), inplace=True)\n",
        "  X_train[i] = X_train[i].astype(int)"
      ]
    },
    {
      "cell_type": "code",
      "execution_count": null,
      "id": "8954c199",
      "metadata": {
        "execution": {
          "iopub.execute_input": "2022-11-30T17:49:04.204142Z",
          "iopub.status.busy": "2022-11-30T17:49:04.203047Z",
          "iopub.status.idle": "2022-11-30T17:49:04.213987Z",
          "shell.execute_reply": "2022-11-30T17:49:04.212747Z"
        },
        "papermill": {
          "duration": 0.024386,
          "end_time": "2022-11-30T17:49:04.216779",
          "exception": false,
          "start_time": "2022-11-30T17:49:04.192393",
          "status": "completed"
        },
        "tags": [],
        "id": "8954c199"
      },
      "outputs": [],
      "source": [
        "for i in j:\n",
        "  X_test[i].fillna(X_test[i].mean(), inplace=True)\n",
        "  X_test[i] = X_test[i].astype(int)"
      ]
    },
    {
      "cell_type": "code",
      "execution_count": null,
      "id": "30bb568f",
      "metadata": {
        "execution": {
          "iopub.execute_input": "2022-11-30T17:49:04.236687Z",
          "iopub.status.busy": "2022-11-30T17:49:04.236173Z",
          "iopub.status.idle": "2022-11-30T17:49:04.266714Z",
          "shell.execute_reply": "2022-11-30T17:49:04.265649Z"
        },
        "papermill": {
          "duration": 0.043578,
          "end_time": "2022-11-30T17:49:04.269454",
          "exception": false,
          "start_time": "2022-11-30T17:49:04.225876",
          "status": "completed"
        },
        "tags": [],
        "id": "30bb568f"
      },
      "outputs": [],
      "source": [
        "def condition(t):\n",
        "    if t == 'below21':\n",
        "        return 0\n",
        "    elif t == '50plus':\n",
        "        return 4\n",
        "    elif int(t) >= 21 and int(t) <= 30:\n",
        "        return 1 \n",
        "    elif int(t) >= 31 and int(t) <= 40:\n",
        "        return 2 \n",
        "    elif int(t) >= 41 and int(t) <= 50:\n",
        "        return 3\n",
        "X_test['age'] = X_test['age'].apply(condition)\n",
        "X_train['age'] = X_train['age'].apply(condition)"
      ]
    },
    {
      "cell_type": "code",
      "execution_count": null,
      "id": "0b4e46ff",
      "metadata": {
        "execution": {
          "iopub.execute_input": "2022-11-30T17:49:04.289729Z",
          "iopub.status.busy": "2022-11-30T17:49:04.289315Z",
          "iopub.status.idle": "2022-11-30T17:49:04.350812Z",
          "shell.execute_reply": "2022-11-30T17:49:04.349566Z"
        },
        "papermill": {
          "duration": 0.075175,
          "end_time": "2022-11-30T17:49:04.353648",
          "exception": false,
          "start_time": "2022-11-30T17:49:04.278473",
          "status": "completed"
        },
        "tags": [],
        "id": "0b4e46ff"
      },
      "outputs": [],
      "source": [
        "X_train = X_train.drop('car', axis =1)\n",
        "X_test = X_test.drop('car', axis =1)\n",
        "X_train = X_train.replace({'gender':{'Male': 1, 'Female' : 0}})\n",
        "X_test = X_test.replace({'gender':{'Male': 1, 'Female' : 0}})\n",
        "X_train = X_train.replace({'Qualification':{'Bachelors degree' : 4, 'Some college - no degree' : 2,'Graduate degree (Masters or Doctorate)' : 5, 'Associates degree' : 3,'High School Graduate' : 1, 'Some High School' : 0}})\n",
        "X_test = X_test.replace({'Qualification':{'Bachelors degree' : 4, 'Some college - no degree' : 2,'Graduate degree (Masters or Doctorate)' : 5, 'Associates degree' : 3,'High School Graduate' : 1, 'Some High School' : 0}})\n",
        "X_train = X_train.replace({'drop location':{'Location A': 0, 'Location B' : 1,'Location C': 3}})\n",
        "X_test = X_test.replace({'drop location':{'Location A': 0, 'Location B' : 1,'Location C': 3}})"
      ]
    },
    {
      "cell_type": "code",
      "execution_count": null,
      "id": "c29d8689",
      "metadata": {
        "execution": {
          "iopub.execute_input": "2022-11-30T17:49:04.373818Z",
          "iopub.status.busy": "2022-11-30T17:49:04.373402Z",
          "iopub.status.idle": "2022-11-30T17:49:04.389447Z",
          "shell.execute_reply": "2022-11-30T17:49:04.388259Z"
        },
        "papermill": {
          "duration": 0.029392,
          "end_time": "2022-11-30T17:49:04.392206",
          "exception": false,
          "start_time": "2022-11-30T17:49:04.362814",
          "status": "completed"
        },
        "tags": [],
        "id": "c29d8689"
      },
      "outputs": [],
      "source": [
        "num_train = X_train.select_dtypes(include = \"int64\")\n",
        "cat_train = X_train.select_dtypes(include = \"object\")\n",
        "\n",
        "num_test = X_test.select_dtypes(include = \"int64\")\n",
        "cat_test = X_test.select_dtypes(include = \"object\")"
      ]
    },
    {
      "cell_type": "code",
      "execution_count": null,
      "id": "ad792b16",
      "metadata": {
        "execution": {
          "iopub.execute_input": "2022-11-30T17:49:04.412251Z",
          "iopub.status.busy": "2022-11-30T17:49:04.411821Z",
          "iopub.status.idle": "2022-11-30T17:49:04.427851Z",
          "shell.execute_reply": "2022-11-30T17:49:04.426148Z"
        },
        "papermill": {
          "duration": 0.029325,
          "end_time": "2022-11-30T17:49:04.430703",
          "exception": false,
          "start_time": "2022-11-30T17:49:04.401378",
          "status": "completed"
        },
        "tags": [],
        "id": "ad792b16",
        "outputId": "8a974c2d-80e2-40b0-df31-52969c7b591e"
      },
      "outputs": [
        {
          "name": "stdout",
          "output_type": "stream",
          "text": [
            "<class 'pandas.core.frame.DataFrame'>\n",
            "RangeIndex: 12379 entries, 0 to 12378\n",
            "Data columns (total 5 columns):\n",
            " #   Column            Non-Null Count  Dtype \n",
            "---  ------            --------------  ----- \n",
            " 0   Marital Status    12379 non-null  object\n",
            " 1   restaurant type   12379 non-null  object\n",
            " 2   Customer type     12379 non-null  object\n",
            " 3   Job/Job Industry  12379 non-null  object\n",
            " 4   Climate           12379 non-null  object\n",
            "dtypes: object(5)\n",
            "memory usage: 483.7+ KB\n"
          ]
        }
      ],
      "source": [
        "cat_train.info()"
      ]
    },
    {
      "cell_type": "code",
      "execution_count": null,
      "id": "0c0b9fb4",
      "metadata": {
        "execution": {
          "iopub.execute_input": "2022-11-30T17:49:04.451364Z",
          "iopub.status.busy": "2022-11-30T17:49:04.450876Z",
          "iopub.status.idle": "2022-11-30T17:49:04.680547Z",
          "shell.execute_reply": "2022-11-30T17:49:04.678961Z"
        },
        "papermill": {
          "duration": 0.244537,
          "end_time": "2022-11-30T17:49:04.685019",
          "exception": false,
          "start_time": "2022-11-30T17:49:04.440482",
          "status": "completed"
        },
        "tags": [],
        "id": "0c0b9fb4"
      },
      "outputs": [],
      "source": [
        "num_col = []\n",
        "for i in num_test.columns:\n",
        "  num_col.append(i)\n",
        "\n",
        "cat_col = []\n",
        "for i in cat_test.columns:\n",
        "  cat_col.append(i)\n",
        "from sklearn.preprocessing import StandardScaler, OneHotEncoder\n",
        "from sklearn.pipeline import Pipeline\n",
        "num_trans = StandardScaler()\n",
        "cat_trans = OneHotEncoder()\n",
        "from sklearn.compose import ColumnTransformer\n",
        "ct = ColumnTransformer(transformers=[\n",
        "    (\"num\", num_trans, num_col),\n",
        "    (\"cat\", cat_trans, cat_col)\n",
        "], remainder=\"passthrough\")\n",
        "X_train = pd.DataFrame(ct.fit_transform(X_train))\n",
        "X_test = pd.DataFrame(ct.fit_transform(X_test))"
      ]
    },
    {
      "cell_type": "code",
      "execution_count": null,
      "id": "b136e1d9",
      "metadata": {
        "execution": {
          "iopub.execute_input": "2022-11-30T17:49:04.706576Z",
          "iopub.status.busy": "2022-11-30T17:49:04.705988Z",
          "iopub.status.idle": "2022-11-30T17:49:05.063515Z",
          "shell.execute_reply": "2022-11-30T17:49:05.062224Z"
        },
        "papermill": {
          "duration": 0.371174,
          "end_time": "2022-11-30T17:49:05.066303",
          "exception": false,
          "start_time": "2022-11-30T17:49:04.695129",
          "status": "completed"
        },
        "tags": [],
        "id": "b136e1d9"
      },
      "outputs": [],
      "source": [
        "\n",
        "from sklearn.metrics import accuracy_score,f1_score,recall_score,precision_score\n",
        "from sklearn.linear_model import LogisticRegression\n",
        "from sklearn.ensemble import RandomForestClassifier,ExtraTreesClassifier\n",
        "from xgboost import XGBClassifier\n",
        "from sklearn.tree import DecisionTreeClassifier\n",
        "from sklearn.neighbors import KNeighborsClassifier"
      ]
    },
    {
      "cell_type": "code",
      "execution_count": null,
      "id": "b401d8aa",
      "metadata": {
        "execution": {
          "iopub.execute_input": "2022-11-30T17:49:05.087936Z",
          "iopub.status.busy": "2022-11-30T17:49:05.085679Z",
          "iopub.status.idle": "2022-11-30T17:49:05.116512Z",
          "shell.execute_reply": "2022-11-30T17:49:05.115168Z"
        },
        "papermill": {
          "duration": 0.044681,
          "end_time": "2022-11-30T17:49:05.120107",
          "exception": false,
          "start_time": "2022-11-30T17:49:05.075426",
          "status": "completed"
        },
        "tags": [],
        "id": "b401d8aa",
        "outputId": "8bca72c9-4df0-41b5-dc6e-3103edd22085"
      },
      "outputs": [
        {
          "data": {
            "text/html": [
              "<div>\n",
              "<style scoped>\n",
              "    .dataframe tbody tr th:only-of-type {\n",
              "        vertical-align: middle;\n",
              "    }\n",
              "\n",
              "    .dataframe tbody tr th {\n",
              "        vertical-align: top;\n",
              "    }\n",
              "\n",
              "    .dataframe thead th {\n",
              "        text-align: right;\n",
              "    }\n",
              "</style>\n",
              "<table border=\"1\" class=\"dataframe\">\n",
              "  <thead>\n",
              "    <tr style=\"text-align: right;\">\n",
              "      <th></th>\n",
              "      <th>0</th>\n",
              "      <th>1</th>\n",
              "      <th>2</th>\n",
              "      <th>3</th>\n",
              "      <th>4</th>\n",
              "      <th>5</th>\n",
              "      <th>6</th>\n",
              "      <th>7</th>\n",
              "      <th>8</th>\n",
              "      <th>9</th>\n",
              "      <th>...</th>\n",
              "      <th>56</th>\n",
              "      <th>57</th>\n",
              "      <th>58</th>\n",
              "      <th>59</th>\n",
              "      <th>60</th>\n",
              "      <th>61</th>\n",
              "      <th>62</th>\n",
              "      <th>63</th>\n",
              "      <th>64</th>\n",
              "      <th>65</th>\n",
              "    </tr>\n",
              "  </thead>\n",
              "  <tbody>\n",
              "    <tr>\n",
              "      <th>0</th>\n",
              "      <td>0.919008</td>\n",
              "      <td>-0.265423</td>\n",
              "      <td>-0.083699</td>\n",
              "      <td>0.886337</td>\n",
              "      <td>-0.537479</td>\n",
              "      <td>1.826860</td>\n",
              "      <td>-1.006240</td>\n",
              "      <td>2.729002</td>\n",
              "      <td>0.0</td>\n",
              "      <td>-0.523006</td>\n",
              "      <td>...</td>\n",
              "      <td>0.0</td>\n",
              "      <td>0.0</td>\n",
              "      <td>0.0</td>\n",
              "      <td>1.0</td>\n",
              "      <td>0.0</td>\n",
              "      <td>0.0</td>\n",
              "      <td>0.0</td>\n",
              "      <td>0.0</td>\n",
              "      <td>1.0</td>\n",
              "      <td>0.0</td>\n",
              "    </tr>\n",
              "    <tr>\n",
              "      <th>1</th>\n",
              "      <td>-1.088130</td>\n",
              "      <td>-0.657097</td>\n",
              "      <td>1.186761</td>\n",
              "      <td>-1.128238</td>\n",
              "      <td>-0.537479</td>\n",
              "      <td>-0.801460</td>\n",
              "      <td>0.993799</td>\n",
              "      <td>-0.366434</td>\n",
              "      <td>0.0</td>\n",
              "      <td>3.847736</td>\n",
              "      <td>...</td>\n",
              "      <td>0.0</td>\n",
              "      <td>0.0</td>\n",
              "      <td>0.0</td>\n",
              "      <td>0.0</td>\n",
              "      <td>0.0</td>\n",
              "      <td>0.0</td>\n",
              "      <td>0.0</td>\n",
              "      <td>0.0</td>\n",
              "      <td>1.0</td>\n",
              "      <td>0.0</td>\n",
              "    </tr>\n",
              "    <tr>\n",
              "      <th>2</th>\n",
              "      <td>0.919008</td>\n",
              "      <td>1.692949</td>\n",
              "      <td>-0.718930</td>\n",
              "      <td>0.886337</td>\n",
              "      <td>-1.196212</td>\n",
              "      <td>-0.801460</td>\n",
              "      <td>0.993799</td>\n",
              "      <td>-0.366434</td>\n",
              "      <td>0.0</td>\n",
              "      <td>-0.523006</td>\n",
              "      <td>...</td>\n",
              "      <td>0.0</td>\n",
              "      <td>0.0</td>\n",
              "      <td>0.0</td>\n",
              "      <td>0.0</td>\n",
              "      <td>0.0</td>\n",
              "      <td>0.0</td>\n",
              "      <td>1.0</td>\n",
              "      <td>0.0</td>\n",
              "      <td>1.0</td>\n",
              "      <td>0.0</td>\n",
              "    </tr>\n",
              "    <tr>\n",
              "      <th>3</th>\n",
              "      <td>0.919008</td>\n",
              "      <td>-0.657097</td>\n",
              "      <td>-0.718930</td>\n",
              "      <td>0.886337</td>\n",
              "      <td>-0.537479</td>\n",
              "      <td>0.950753</td>\n",
              "      <td>-1.006240</td>\n",
              "      <td>-0.366434</td>\n",
              "      <td>0.0</td>\n",
              "      <td>-0.523006</td>\n",
              "      <td>...</td>\n",
              "      <td>0.0</td>\n",
              "      <td>0.0</td>\n",
              "      <td>0.0</td>\n",
              "      <td>0.0</td>\n",
              "      <td>0.0</td>\n",
              "      <td>0.0</td>\n",
              "      <td>1.0</td>\n",
              "      <td>1.0</td>\n",
              "      <td>0.0</td>\n",
              "      <td>0.0</td>\n",
              "    </tr>\n",
              "    <tr>\n",
              "      <th>4</th>\n",
              "      <td>-1.088130</td>\n",
              "      <td>-1.048772</td>\n",
              "      <td>-0.718930</td>\n",
              "      <td>-1.128238</td>\n",
              "      <td>-0.537479</td>\n",
              "      <td>0.074647</td>\n",
              "      <td>0.993799</td>\n",
              "      <td>-0.366434</td>\n",
              "      <td>0.0</td>\n",
              "      <td>-0.523006</td>\n",
              "      <td>...</td>\n",
              "      <td>0.0</td>\n",
              "      <td>0.0</td>\n",
              "      <td>0.0</td>\n",
              "      <td>0.0</td>\n",
              "      <td>0.0</td>\n",
              "      <td>0.0</td>\n",
              "      <td>1.0</td>\n",
              "      <td>0.0</td>\n",
              "      <td>1.0</td>\n",
              "      <td>0.0</td>\n",
              "    </tr>\n",
              "  </tbody>\n",
              "</table>\n",
              "<p>5 rows × 66 columns</p>\n",
              "</div>"
            ],
            "text/plain": [
              "         0         1         2         3         4         5         6   \\\n",
              "0  0.919008 -0.265423 -0.083699  0.886337 -0.537479  1.826860 -1.006240   \n",
              "1 -1.088130 -0.657097  1.186761 -1.128238 -0.537479 -0.801460  0.993799   \n",
              "2  0.919008  1.692949 -0.718930  0.886337 -1.196212 -0.801460  0.993799   \n",
              "3  0.919008 -0.657097 -0.718930  0.886337 -0.537479  0.950753 -1.006240   \n",
              "4 -1.088130 -1.048772 -0.718930 -1.128238 -0.537479  0.074647  0.993799   \n",
              "\n",
              "         7    8         9   ...   56   57   58   59   60   61   62   63   64  \\\n",
              "0  2.729002  0.0 -0.523006  ...  0.0  0.0  0.0  1.0  0.0  0.0  0.0  0.0  1.0   \n",
              "1 -0.366434  0.0  3.847736  ...  0.0  0.0  0.0  0.0  0.0  0.0  0.0  0.0  1.0   \n",
              "2 -0.366434  0.0 -0.523006  ...  0.0  0.0  0.0  0.0  0.0  0.0  1.0  0.0  1.0   \n",
              "3 -0.366434  0.0 -0.523006  ...  0.0  0.0  0.0  0.0  0.0  0.0  1.0  1.0  0.0   \n",
              "4 -0.366434  0.0 -0.523006  ...  0.0  0.0  0.0  0.0  0.0  0.0  1.0  0.0  1.0   \n",
              "\n",
              "    65  \n",
              "0  0.0  \n",
              "1  0.0  \n",
              "2  0.0  \n",
              "3  0.0  \n",
              "4  0.0  \n",
              "\n",
              "[5 rows x 66 columns]"
            ]
          },
          "execution_count": 23,
          "metadata": {},
          "output_type": "execute_result"
        }
      ],
      "source": [
        "X_test.head()"
      ]
    },
    {
      "cell_type": "code",
      "execution_count": null,
      "id": "c5607e0c",
      "metadata": {
        "execution": {
          "iopub.execute_input": "2022-11-30T17:49:05.141212Z",
          "iopub.status.busy": "2022-11-30T17:49:05.140516Z",
          "iopub.status.idle": "2022-11-30T17:49:07.255952Z",
          "shell.execute_reply": "2022-11-30T17:49:07.254682Z"
        },
        "papermill": {
          "duration": 2.13025,
          "end_time": "2022-11-30T17:49:07.259838",
          "exception": false,
          "start_time": "2022-11-30T17:49:05.129588",
          "status": "completed"
        },
        "tags": [],
        "id": "c5607e0c"
      },
      "outputs": [],
      "source": [
        "#Log_model = LogisticRegression().fit(X_train,Y_train)\n",
        "#tree_model = DecisionTreeClassifier().fit(X_train,Y_train)\n",
        "random_model = RandomForestClassifier().fit(X_train,Y_train)\n",
        "#extra_model = ExtraTreesClassifier().fit(X_train,Y_train)\n",
        "#xgb_model = XGBClassifier().fit(X_train,Y_train)\n",
        "#KNN_model = KNeighborsClassifier().fit(X_train,Y_train)"
      ]
    },
    {
      "cell_type": "code",
      "execution_count": null,
      "id": "3a9d38ba",
      "metadata": {
        "papermill": {
          "duration": 0.009077,
          "end_time": "2022-11-30T17:49:07.278432",
          "exception": false,
          "start_time": "2022-11-30T17:49:07.269355",
          "status": "completed"
        },
        "tags": [],
        "id": "3a9d38ba"
      },
      "outputs": [],
      "source": []
    },
    {
      "cell_type": "code",
      "execution_count": null,
      "id": "3ecde7a8",
      "metadata": {
        "execution": {
          "iopub.execute_input": "2022-11-30T17:49:07.299225Z",
          "iopub.status.busy": "2022-11-30T17:49:07.298792Z",
          "iopub.status.idle": "2022-11-30T17:49:07.456046Z",
          "shell.execute_reply": "2022-11-30T17:49:07.454776Z"
        },
        "papermill": {
          "duration": 0.170998,
          "end_time": "2022-11-30T17:49:07.459112",
          "exception": false,
          "start_time": "2022-11-30T17:49:07.288114",
          "status": "completed"
        },
        "tags": [],
        "id": "3ecde7a8"
      },
      "outputs": [],
      "source": [
        "predi = random_model.predict(X_test)"
      ]
    },
    {
      "cell_type": "code",
      "execution_count": null,
      "id": "a11ef665",
      "metadata": {
        "execution": {
          "iopub.execute_input": "2022-11-30T17:49:07.479919Z",
          "iopub.status.busy": "2022-11-30T17:49:07.479496Z",
          "iopub.status.idle": "2022-11-30T17:49:07.486612Z",
          "shell.execute_reply": "2022-11-30T17:49:07.485451Z"
        },
        "papermill": {
          "duration": 0.020406,
          "end_time": "2022-11-30T17:49:07.488933",
          "exception": false,
          "start_time": "2022-11-30T17:49:07.468527",
          "status": "completed"
        },
        "tags": [],
        "id": "a11ef665",
        "outputId": "2f09f1b1-950e-4e2d-c85d-722482c6cb22"
      },
      "outputs": [
        {
          "data": {
            "text/plain": [
              "array(['Yes', 'Yes', 'No', ..., 'Yes', 'Yes', 'Yes'], dtype=object)"
            ]
          },
          "execution_count": 26,
          "metadata": {},
          "output_type": "execute_result"
        }
      ],
      "source": [
        "predi"
      ]
    },
    {
      "cell_type": "code",
      "execution_count": null,
      "id": "fb5ba5d3",
      "metadata": {
        "execution": {
          "iopub.execute_input": "2022-11-30T17:49:07.510453Z",
          "iopub.status.busy": "2022-11-30T17:49:07.509271Z",
          "iopub.status.idle": "2022-11-30T17:49:07.517468Z",
          "shell.execute_reply": "2022-11-30T17:49:07.516412Z"
        },
        "papermill": {
          "duration": 0.021599,
          "end_time": "2022-11-30T17:49:07.520160",
          "exception": false,
          "start_time": "2022-11-30T17:49:07.498561",
          "status": "completed"
        },
        "tags": [],
        "id": "fb5ba5d3"
      },
      "outputs": [],
      "source": [
        "submission= pd.DataFrame(columns = [\"id\", \"Offer Accepted\"])"
      ]
    },
    {
      "cell_type": "code",
      "execution_count": null,
      "id": "8aaabca3",
      "metadata": {
        "execution": {
          "iopub.execute_input": "2022-11-30T17:49:07.541706Z",
          "iopub.status.busy": "2022-11-30T17:49:07.540875Z",
          "iopub.status.idle": "2022-11-30T17:49:07.552464Z",
          "shell.execute_reply": "2022-11-30T17:49:07.551380Z"
        },
        "papermill": {
          "duration": 0.025773,
          "end_time": "2022-11-30T17:49:07.555305",
          "exception": false,
          "start_time": "2022-11-30T17:49:07.529532",
          "status": "completed"
        },
        "tags": [],
        "id": "8aaabca3"
      },
      "outputs": [],
      "source": [
        "submission[\"id\"] = [i for i in range(len(predi))]\n",
        "submission[\"Offer Accepted\"] = predi"
      ]
    },
    {
      "cell_type": "code",
      "execution_count": null,
      "id": "5c313590",
      "metadata": {
        "execution": {
          "iopub.execute_input": "2022-11-30T17:49:07.576647Z",
          "iopub.status.busy": "2022-11-30T17:49:07.575838Z",
          "iopub.status.idle": "2022-11-30T17:49:07.589411Z",
          "shell.execute_reply": "2022-11-30T17:49:07.588351Z"
        },
        "papermill": {
          "duration": 0.027427,
          "end_time": "2022-11-30T17:49:07.592108",
          "exception": false,
          "start_time": "2022-11-30T17:49:07.564681",
          "status": "completed"
        },
        "tags": [],
        "id": "5c313590"
      },
      "outputs": [],
      "source": [
        "submission.to_csv(\"submission.csv\", index=False)"
      ]
    },
    {
      "cell_type": "code",
      "execution_count": null,
      "id": "4f300679",
      "metadata": {
        "papermill": {
          "duration": 0.008733,
          "end_time": "2022-11-30T17:49:07.610014",
          "exception": false,
          "start_time": "2022-11-30T17:49:07.601281",
          "status": "completed"
        },
        "tags": [],
        "id": "4f300679"
      },
      "outputs": [],
      "source": []
    }
  ],
  "metadata": {
    "kernelspec": {
      "display_name": "Python 3",
      "language": "python",
      "name": "python3"
    },
    "language_info": {
      "codemirror_mode": {
        "name": "ipython",
        "version": 3
      },
      "file_extension": ".py",
      "mimetype": "text/x-python",
      "name": "python",
      "nbconvert_exporter": "python",
      "pygments_lexer": "ipython3",
      "version": "3.7.12"
    },
    "papermill": {
      "default_parameters": {},
      "duration": 14.80174,
      "end_time": "2022-11-30T17:49:08.340510",
      "environment_variables": {},
      "exception": null,
      "input_path": "__notebook__.ipynb",
      "output_path": "__notebook__.ipynb",
      "parameters": {},
      "start_time": "2022-11-30T17:48:53.538770",
      "version": "2.3.4"
    },
    "colab": {
      "provenance": [],
      "include_colab_link": true
    }
  },
  "nbformat": 4,
  "nbformat_minor": 5
}